{
  "nbformat": 4,
  "nbformat_minor": 0,
  "metadata": {
    "colab": {
      "name": "ML Python Programs 2.ipynb",
      "provenance": [],
      "collapsed_sections": [],
      "authorship_tag": "ABX9TyMr9u4xtz/w/JOgZRAPHoER",
      "include_colab_link": true
    },
    "kernelspec": {
      "name": "python3",
      "display_name": "Python 3"
    }
  },
  "cells": [
    {
      "cell_type": "markdown",
      "metadata": {
        "id": "view-in-github",
        "colab_type": "text"
      },
      "source": [
        "<a href=\"https://colab.research.google.com/github/spoorthybalaji/ML-Programs/blob/master/ML_Python_Programs_2.ipynb\" target=\"_parent\"><img src=\"https://colab.research.google.com/assets/colab-badge.svg\" alt=\"Open In Colab\"/></a>"
      ]
    },
    {
      "cell_type": "code",
      "metadata": {
        "id": "iTKwLMzFnU-5",
        "colab_type": "code",
        "colab": {}
      },
      "source": [
        ""
      ],
      "execution_count": null,
      "outputs": []
    },
    {
      "cell_type": "markdown",
      "metadata": {
        "id": "WP9rXByRnZMw",
        "colab_type": "text"
      },
      "source": [
        "\n",
        "[ ]\n",
        "1.Write a Python program to count the occurrences of each word in a given sentence"
      ]
    },
    {
      "cell_type": "code",
      "metadata": {
        "id": "oTAJlm4SnaVW",
        "colab_type": "code",
        "colab": {
          "base_uri": "https://localhost:8080/",
          "height": 35
        },
        "outputId": "09154746-4542-43e1-a5d4-5777570f12cd"
      },
      "source": [
        "def word_count(str):\n",
        "    counts = dict()\n",
        "    words = str.split()\n",
        "\n",
        "    for word in words:\n",
        "        if word in counts:\n",
        "            counts[word] += 1\n",
        "        else:\n",
        "            counts[word] = 1\n",
        "\n",
        "    return counts\n",
        "\n",
        "print( word_count('alvas education foundation alvas'))"
      ],
      "execution_count": 1,
      "outputs": [
        {
          "output_type": "stream",
          "text": [
            "{'alvas': 2, 'education': 1, 'foundation': 1}\n"
          ],
          "name": "stdout"
        }
      ]
    },
    {
      "cell_type": "markdown",
      "metadata": {
        "id": "1A3gWOh6na7m",
        "colab_type": "text"
      },
      "source": [
        "2. Write a Python program to remove duplicates from a list"
      ]
    },
    {
      "cell_type": "code",
      "metadata": {
        "id": "Mg7QRzQ6nqgK",
        "colab_type": "code",
        "colab": {
          "base_uri": "https://localhost:8080/",
          "height": 54
        },
        "outputId": "12359080-b93c-4986-c24a-1e18dbefb14f"
      },
      "source": [
        "a = [20,30,30,20,50,20,60,40,80,50,40]\n",
        "dup_items = set()\n",
        "uniq_items = []\n",
        "for x in a:\n",
        "  if x not in dup_items:\n",
        "\t  uniq_items.append(x)\n",
        "\t  dup_items.add(x)\n",
        "print(dup_items)\n",
        "print(uniq_items)"
      ],
      "execution_count": 2,
      "outputs": [
        {
          "output_type": "stream",
          "text": [
            "{40, 80, 50, 20, 60, 30}\n",
            "[20, 30, 50, 60, 40, 80]\n"
          ],
          "name": "stdout"
        }
      ]
    },
    {
      "cell_type": "markdown",
      "metadata": {
        "id": "Jm7S6lBhnrYd",
        "colab_type": "text"
      },
      "source": [
        "3.Write a Python program to count the number of elements in a list within a specified range."
      ]
    },
    {
      "cell_type": "code",
      "metadata": {
        "id": "zHsRe8Nnn8Tx",
        "colab_type": "code",
        "colab": {
          "base_uri": "https://localhost:8080/",
          "height": 35
        },
        "outputId": "e9f47658-95b2-45a7-9fa2-752aa0a87008"
      },
      "source": [
        "def count_range_in_list(li, min, max):\n",
        "\tctr = 0\n",
        "\tfor x in li:\n",
        "\t\tif min <= x <= max:\n",
        "\t\t\tctr += 1\n",
        "\treturn ctr\n",
        "\n",
        "list1 = [10,20,30,40,50,40,70,80,99]\n",
        "print(count_range_in_list(list1, 43, 100))"
      ],
      "execution_count": 3,
      "outputs": [
        {
          "output_type": "stream",
          "text": [
            "4\n"
          ],
          "name": "stdout"
        }
      ]
    },
    {
      "cell_type": "markdown",
      "metadata": {
        "id": "wJ7fb3pwn80F",
        "colab_type": "text"
      },
      "source": [
        "4. Write a Python script to merge two Python dictionaries"
      ]
    },
    {
      "cell_type": "code",
      "metadata": {
        "id": "3xDYh45-oPh_",
        "colab_type": "code",
        "colab": {
          "base_uri": "https://localhost:8080/",
          "height": 35
        },
        "outputId": "ccab5721-ca5d-4f96-8eab-257a7206438d"
      },
      "source": [
        "d1 = {'a': 100, 'b': 200}\n",
        "d2 = {'c': 400, 'd': 500}\n",
        "d = d1.copy()\n",
        "d.update(d2)\n",
        "print(d)"
      ],
      "execution_count": 4,
      "outputs": [
        {
          "output_type": "stream",
          "text": [
            "{'a': 100, 'b': 200, 'c': 400, 'd': 500}\n"
          ],
          "name": "stdout"
        }
      ]
    },
    {
      "cell_type": "markdown",
      "metadata": {
        "id": "cwCPk6ukoaod",
        "colab_type": "text"
      },
      "source": [
        "5. Write a Python program to find the highest 3 values in a dictionary"
      ]
    },
    {
      "cell_type": "code",
      "metadata": {
        "id": "nLOFAwkhoYCv",
        "colab_type": "code",
        "colab": {
          "base_uri": "https://localhost:8080/",
          "height": 72
        },
        "outputId": "4b4e2c2e-c6e3-499e-b6a0-320b1d5d49b0"
      },
      "source": [
        "from heapq import nlargest\n",
        "my_dict = {'a':700, 'b':1000, 'c': 560,'d':4400, 'e':2974, 'f': 3450}  \n",
        "ThreeHighest = nlargest(3, my_dict, key=my_dict.get)\n",
        "for val in ThreeHighest: \n",
        "    print(val, \":\", my_dict.get(val))"
      ],
      "execution_count": 5,
      "outputs": [
        {
          "output_type": "stream",
          "text": [
            "d : 4400\n",
            "f : 3450\n",
            "e : 2974\n"
          ],
          "name": "stdout"
        }
      ]
    },
    {
      "cell_type": "markdown",
      "metadata": {
        "id": "FuD04mjioZbt",
        "colab_type": "text"
      },
      "source": [
        "6.Write a python program to convert the tuple into a string"
      ]
    },
    {
      "cell_type": "code",
      "metadata": {
        "id": "caeFpxjqowNA",
        "colab_type": "code",
        "colab": {
          "base_uri": "https://localhost:8080/",
          "height": 35
        },
        "outputId": "1e373721-bddf-46f5-bb06-68756f95a268"
      },
      "source": [
        "def convertTuple(tup): \n",
        "    str =  ''.join(tup) \n",
        "    return str\n",
        " \n",
        "tuple = ('s', 'p', 'o', 'o', 'r','t','h','y') \n",
        "str = convertTuple(tuple) \n",
        "print(str)"
      ],
      "execution_count": 6,
      "outputs": [
        {
          "output_type": "stream",
          "text": [
            "spoorthy\n"
          ],
          "name": "stdout"
        }
      ]
    },
    {
      "cell_type": "markdown",
      "metadata": {
        "id": "2U6ml2dPox-q",
        "colab_type": "text"
      },
      "source": [
        "7. write a python program to reverse a tuple"
      ]
    },
    {
      "cell_type": "code",
      "metadata": {
        "id": "1mCxnkrrpFxd",
        "colab_type": "code",
        "colab": {
          "base_uri": "https://localhost:8080/",
          "height": 35
        },
        "outputId": "9fe3b792-e286-4de9-d36d-915f381ad6bd"
      },
      "source": [
        "def Reverse(tuples): \n",
        "    new_tup = tuples[::-1] \n",
        "    return new_tup \n",
        "      \n",
        " \n",
        "tuples = ('s', 'p', 'o', 'o', 'r','t','h','y') \n",
        "print(Reverse(tuples))"
      ],
      "execution_count": 7,
      "outputs": [
        {
          "output_type": "stream",
          "text": [
            "('y', 'h', 't', 'r', 'o', 'o', 'p', 's')\n"
          ],
          "name": "stdout"
        }
      ]
    },
    {
      "cell_type": "markdown",
      "metadata": {
        "id": "K7qSvt_NpGng",
        "colab_type": "text"
      },
      "source": [
        "8. write a python program to remove existing indentation from all of the lines in a given text"
      ]
    },
    {
      "cell_type": "code",
      "metadata": {
        "id": "l2jaAe3GpVMD",
        "colab_type": "code",
        "colab": {
          "base_uri": "https://localhost:8080/",
          "height": 181
        },
        "outputId": "e31b2152-debb-44a2-954a-2da9769da2ba"
      },
      "source": [
        "import textwrap  \n",
        "sample_text = ''' \n",
        "    Python is a widely used high-level, general-purpose, interpreted, \n",
        "    dynamic programming language. Its design philosophy emphasizes \n",
        "    code readability, and its syntax allows programmers to express \n",
        "    concepts in fewer lines of code than possible in languages such \n",
        "    as C++ or Java. \n",
        "    '''  \n",
        "text_without_Indentation = textwrap.dedent(sample_text)  \n",
        "print()  \n",
        "print(text_without_Indentation )  \n",
        "print()\n"
      ],
      "execution_count": 8,
      "outputs": [
        {
          "output_type": "stream",
          "text": [
            "\n",
            "\n",
            "Python is a widely used high-level, general-purpose, interpreted, \n",
            "dynamic programming language. Its design philosophy emphasizes \n",
            "code readability, and its syntax allows programmers to express \n",
            "concepts in fewer lines of code than possible in languages such \n",
            "as C++ or Java. \n",
            "\n",
            "\n"
          ],
          "name": "stdout"
        }
      ]
    },
    {
      "cell_type": "code",
      "metadata": {
        "id": "lm-jp242pZEY",
        "colab_type": "code",
        "colab": {}
      },
      "source": [
        ""
      ],
      "execution_count": null,
      "outputs": []
    }
  ]
}